{
 "cells": [
  {
   "cell_type": "markdown",
   "metadata": {},
   "source": [
    "### Para automatizar o processo de baixar, empilhar e manter atualizado os arquivos de empresas (0-9):\n",
    "\n",
    "Criar um script de webscrapping em python usando a biblioteca *Selenium* para acessar o link e baixar os arquivos. \n",
    "Baixa-se os arquivos utilizando o XPath, que mantém um padrão de identificação sendo fácil realizar uma iteração para baixá-los.\n",
    "\n",
    "Segue abaixo os XPath's que encontrei e notei o padrão de nomenclatura:\n",
    "\n",
    "/html/body/table/tbody/tr[5]/td[2]/a ----------> Empresas0\n",
    "\n",
    "/html/body/table/tbody/tr[6]/td[2]/a ----------> Empresas1\n",
    "\n",
    "/html/body/table/tbody/tr[7]/td[2]/a ----------> Empresas2\n",
    "\n",
    "/html/body/table/tbody/tr[8]/td[2]/a ----------> Empresas3\n",
    "\n",
    "/html/body/table/tbody/tr[9]/td[2]/a ----------> Empresas4\n",
    "\n",
    "/html/body/table/tbody/tr[10]/td[2]/a ---------> Empresas5\n",
    "\n",
    "/html/body/table/tbody/tr[11]/td[2]/a ---------> Empresas6\n",
    "\n",
    "/html/body/table/tbody/tr[12]/td[2]/a ---------> Empresas7\n",
    "\n",
    "/html/body/table/tbody/tr[13]/td[2]/a ---------> Empresas8\n",
    "\n",
    "/html/body/table/tbody/tr[14]/td[2]/a ---------> Empresas9\n",
    "\n",
    "\n",
    "Deve-se atentar a um provável bloqueio de download pelo navegador e achar uma solução para impedir o bloqueio dos downloads, alterar as preferências /configurações do Chrome por meio do método webdriver.Chrome(options=chrome_options) talvez funcione.\n",
    "\n",
    "Feito o download, precisamos extrair os arquivos de dentro do .zip e para isso podemos utilizar a biblioteca *zipfile* e o método extractall()\n",
    "Seria possível fazer isso por meio de um loop for, pois os zips são nomeados como: Empresas1, Empresas2, Empresas3... Possibilitando uma fácil iteração.\n",
    "\n",
    "Após isso, teremos acesso ao arquivo dentro dos zip's, porém notei que os arquivos estão nomeados erroneamente causando um conflito no formato do arquivo. Para resolver, é necessário renomea-los inserindo um \".csv\" no final para arrumar o formato.\n",
    "\n",
    "Agora, com auxílio das bibliotecas *os* e *shutil* podemos mover os CSV's para o diretório desejado.\n",
    "Por fim, para empilharmos os novos dados em suas respectivas bases, podemos ler os novos CSV's com a biblioteca *pandas* e utilizar o método concat([dados_antigos, dados_novos]) para inserir os novos dados na base. \n",
    "\n",
    "Assim, criando um processo automatizado para atualizar os datasets. "
   ]
  },
  {
   "cell_type": "markdown",
   "metadata": {},
   "source": []
  }
 ],
 "metadata": {
  "kernelspec": {
   "display_name": "Python 3",
   "language": "python",
   "name": "python3"
  },
  "language_info": {
   "codemirror_mode": {
    "name": "ipython",
    "version": 3
   },
   "file_extension": ".py",
   "mimetype": "text/x-python",
   "name": "python",
   "nbconvert_exporter": "python",
   "pygments_lexer": "ipython3",
   "version": "3.12.4"
  }
 },
 "nbformat": 4,
 "nbformat_minor": 2
}
