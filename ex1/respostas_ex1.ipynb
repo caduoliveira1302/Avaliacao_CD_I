{
 "cells": [
  {
   "cell_type": "markdown",
   "metadata": {},
   "source": [
    "# EX 1.1\n",
    "\n",
    "\n",
    "### ESTRUTURA ESCOLHIDA: \n",
    "\n",
    "### DICIONÁRIO DE DICIONÁRIOS\n",
    "\n",
    "##### Teremos um dicionário com 2019-2024 como chaves \n",
    "##### Dentro dessas chaves teremos subchaves que serão os meses (1-12)\n",
    "##### Dentro das subchaves dos meses teremos outras subchaves que são os códigos de cada país\n",
    "##### Dentro dos países teremos, finalmente, os datasets com os dados de IMP/EXP em relação aos outros 142 países\n",
    "\n",
    "\n",
    "================================================================================\n",
    "\n",
    "\n",
    "\n",
    "VISUALIZAR NO CADERNO dev.ipynb"
   ]
  },
  {
   "cell_type": "markdown",
   "metadata": {},
   "source": [
    "# EX 1.2\n",
    "\n",
    "##### Para integrar 3+ anos de comércio exterior foi necessário um *loop for* sobre os anos trabalhados. Neste caso, de 2019 a 2024 são 6 anos diferentes. \n",
    "##### Após este *loop for*, há mais um *loop* iterando em cada mes de cada ano. E por fim, mais um *loop* iterando sobre cada um dos 143 países. Assim, criamos os dados fictícios e a estrutura necessária para trabalhar.\n",
    "\n",
    "================================================================================\n",
    "\n",
    "\n",
    "\n",
    "VISUALIZAR NO CADERNO dev.ipynb\n"
   ]
  },
  {
   "cell_type": "markdown",
   "metadata": {},
   "source": [
    "# EX 1.3\n",
    "\n",
    "Qual/Quais arquivo(s) da sua base de dados respondem a questão: 'Qual a \n",
    "quantidade de soja o Mundo importou do Brasil em 2020?'\n",
    "\n",
    "##### O arquivo que responde a pergunta é o dicionário \"dict_comex\" e para responder tal pergunta foi criada a função \"comex_pais_mundo_ano()\" que recebe 2 parâmetros (país e ano). A pergunta em questão foi respondida no final do caderno dev.ipynb\n",
    "\n",
    "================================================================================\n",
    "\n",
    "\n",
    "\n",
    "VISUALIZAR FUNÇÃO EM main.py "
   ]
  },
  {
   "cell_type": "markdown",
   "metadata": {},
   "source": [
    "# 1.4\n",
    "\n",
    "\n",
    "##### Para manter a base atualizada, foi criada a função \"add_dados()\" que adiciona os dados na base de acordo com o ano e os meses indicados na função. O report final foi criado também através de uma função e retorna um gráfico que mostra a quantidade de importações e exportações entre dois países, o report retorna o ano todo caso for um ano completo, senão, retorna os anos dosponíveis.\n",
    "\n",
    "================================================================================\n",
    "\n",
    "\n",
    "\n",
    "VISUALIZAR NO FINAL DO CADERNO dev.ipynb"
   ]
  },
  {
   "cell_type": "markdown",
   "metadata": {},
   "source": []
  }
 ],
 "metadata": {
  "language_info": {
   "name": "python"
  }
 },
 "nbformat": 4,
 "nbformat_minor": 2
}
